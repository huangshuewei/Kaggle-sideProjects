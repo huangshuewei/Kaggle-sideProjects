{
 "cells": [
  {
   "cell_type": "code",
   "execution_count": 1,
   "id": "e91771c2",
   "metadata": {
    "_cell_guid": "b1076dfc-b9ad-4769-8c92-a6c4dae69d19",
    "_uuid": "8f2839f25d086af736a60e9eeb907d3b93b6e0e5",
    "execution": {
     "iopub.execute_input": "2023-08-11T13:41:28.104519Z",
     "iopub.status.busy": "2023-08-11T13:41:28.104058Z",
     "iopub.status.idle": "2023-08-11T13:41:28.121372Z",
     "shell.execute_reply": "2023-08-11T13:41:28.120389Z"
    },
    "papermill": {
     "duration": 0.028574,
     "end_time": "2023-08-11T13:41:28.124564",
     "exception": false,
     "start_time": "2023-08-11T13:41:28.095990",
     "status": "completed"
    },
    "tags": []
   },
   "outputs": [
    {
     "name": "stdout",
     "output_type": "stream",
     "text": [
      "/kaggle/input/textiledefectdetection/train64.h5\n",
      "/kaggle/input/textiledefectdetection/matchingtDATASET_test_32.h5\n",
      "/kaggle/input/textiledefectdetection/test32.csv\n",
      "/kaggle/input/textiledefectdetection/train32.csv\n",
      "/kaggle/input/textiledefectdetection/test32.h5\n",
      "/kaggle/input/textiledefectdetection/train32.h5\n",
      "/kaggle/input/textiledefectdetection/test64.csv\n",
      "/kaggle/input/textiledefectdetection/matchingtDATASET_train_32.h5\n",
      "/kaggle/input/textiledefectdetection/matchingtDATASET_test_64.h5\n",
      "/kaggle/input/textiledefectdetection/matchingtDATASET_train_64.h5\n",
      "/kaggle/input/textiledefectdetection/test64.h5\n",
      "/kaggle/input/textiledefectdetection/train64.csv\n"
     ]
    }
   ],
   "source": [
    "# This Python 3 environment comes with many helpful analytics libraries installed\n",
    "# It is defined by the kaggle/python Docker image: https://github.com/kaggle/docker-python\n",
    "# For example, here's several helpful packages to load\n",
    "\n",
    "import numpy as np # linear algebra\n",
    "import pandas as pd # data processing, CSV file I/O (e.g. pd.read_csv)\n",
    "\n",
    "# Input data files are available in the read-only \"../input/\" directory\n",
    "# For example, running this (by clicking run or pressing Shift+Enter) will list all files under the input directory\n",
    "\n",
    "import os\n",
    "for dirname, _, filenames in os.walk('/kaggle/input'):\n",
    "    for filename in filenames:\n",
    "        print(os.path.join(dirname, filename))\n",
    "\n",
    "# You can write up to 20GB to the current directory (/kaggle/working/) that gets preserved as output when you create a version using \"Save & Run All\" \n",
    "# You can also write temporary files to /kaggle/temp/, but they won't be saved outside of the current session"
   ]
  },
  {
   "cell_type": "code",
   "execution_count": 2,
   "id": "6bea9858",
   "metadata": {
    "execution": {
     "iopub.execute_input": "2023-08-11T13:41:28.133558Z",
     "iopub.status.busy": "2023-08-11T13:41:28.133298Z",
     "iopub.status.idle": "2023-08-11T13:41:28.251008Z",
     "shell.execute_reply": "2023-08-11T13:41:28.248661Z"
    },
    "papermill": {
     "duration": 0.124458,
     "end_time": "2023-08-11T13:41:28.253131",
     "exception": false,
     "start_time": "2023-08-11T13:41:28.128673",
     "status": "completed"
    },
    "tags": []
   },
   "outputs": [
    {
     "name": "stdout",
     "output_type": "stream",
     "text": [
      "       index  angle indication_type  indication_value  split\n",
      "0      48000     40            good                 0  train\n",
      "1      48001     60            good                 0  train\n",
      "2      48002     20            good                 0  train\n",
      "3      48003     40            good                 0  train\n",
      "4      48004     20            good                 0  train\n",
      "...      ...    ...             ...               ...    ...\n",
      "47995  95995     20          thread                 4  train\n",
      "47996  95996    100          thread                 4  train\n",
      "47997  95997    120          thread                 4  train\n",
      "47998  95998    120          thread                 4  train\n",
      "47999  95999     20          thread                 4  train\n",
      "\n",
      "[48000 rows x 5 columns]\n",
      "       index  angle indication_type  indication_value split\n",
      "0          0     40            good                 0  test\n",
      "1          1     80            good                 0  test\n",
      "2          2     60            good                 0  test\n",
      "3          3      0            good                 0  test\n",
      "4          4    140            good                 0  test\n",
      "...      ...    ...             ...               ...   ...\n",
      "47995  47995     20          thread                 4  test\n",
      "47996  47996    100          thread                 4  test\n",
      "47997  47997    100          thread                 4  test\n",
      "47998  47998    140          thread                 4  test\n",
      "47999  47999    120          thread                 4  test\n",
      "\n",
      "[48000 rows x 5 columns]\n"
     ]
    }
   ],
   "source": [
    "train = pd.read_csv('/kaggle/input/textiledefectdetection/train32.csv')\n",
    "test = pd.read_csv('/kaggle/input/textiledefectdetection/test32.csv')\n",
    "print(train)\n",
    "print(test)"
   ]
  },
  {
   "cell_type": "code",
   "execution_count": 3,
   "id": "422268b0",
   "metadata": {
    "execution": {
     "iopub.execute_input": "2023-08-11T13:41:28.264915Z",
     "iopub.status.busy": "2023-08-11T13:41:28.263461Z",
     "iopub.status.idle": "2023-08-11T13:41:28.280545Z",
     "shell.execute_reply": "2023-08-11T13:41:28.279522Z"
    },
    "papermill": {
     "duration": 0.025121,
     "end_time": "2023-08-11T13:41:28.283119",
     "exception": false,
     "start_time": "2023-08-11T13:41:28.257998",
     "status": "completed"
    },
    "tags": []
   },
   "outputs": [
    {
     "name": "stderr",
     "output_type": "stream",
     "text": [
      "/tmp/ipykernel_23/904540034.py:6: SettingWithCopyWarning: \n",
      "A value is trying to be set on a copy of a slice from a DataFrame.\n",
      "Try using .loc[row_indexer,col_indexer] = value instead\n",
      "\n",
      "See the caveats in the documentation: https://pandas.pydata.org/pandas-docs/stable/user_guide/indexing.html#returning-a-view-versus-a-copy\n",
      "  train_damaged['indication_value'] = 1\n",
      "/tmp/ipykernel_23/904540034.py:12: SettingWithCopyWarning: \n",
      "A value is trying to be set on a copy of a slice from a DataFrame.\n",
      "Try using .loc[row_indexer,col_indexer] = value instead\n",
      "\n",
      "See the caveats in the documentation: https://pandas.pydata.org/pandas-docs/stable/user_guide/indexing.html#returning-a-view-versus-a-copy\n",
      "  test_damaged['indication_value'] = 1\n"
     ]
    }
   ],
   "source": [
    "# 0: good textile, 1: damaged textile\n",
    "# Train Data\n",
    "train['index'] = train['index'] - 48000\n",
    "train_good = train[train['indication_value'] == 0]\n",
    "train_damaged = train[train['indication_value'] != 0]\n",
    "train_damaged['indication_value'] = 1\n",
    "\n",
    "# Test Data\n",
    "test['index'] = test['index']\n",
    "test_good = test[test['indication_value'] == 0]\n",
    "test_damaged = test[test['indication_value'] != 0]\n",
    "test_damaged['indication_value'] = 1\n"
   ]
  },
  {
   "cell_type": "code",
   "execution_count": 4,
   "id": "6eefff28",
   "metadata": {
    "execution": {
     "iopub.execute_input": "2023-08-11T13:41:28.293182Z",
     "iopub.status.busy": "2023-08-11T13:41:28.292306Z",
     "iopub.status.idle": "2023-08-11T13:41:28.321513Z",
     "shell.execute_reply": "2023-08-11T13:41:28.320198Z"
    },
    "papermill": {
     "duration": 0.036858,
     "end_time": "2023-08-11T13:41:28.324183",
     "exception": false,
     "start_time": "2023-08-11T13:41:28.287325",
     "status": "completed"
    },
    "tags": []
   },
   "outputs": [
    {
     "name": "stdout",
     "output_type": "stream",
     "text": [
      "index               8000\n",
      "angle               8000\n",
      "indication_type     8000\n",
      "indication_value    8000\n",
      "split               8000\n",
      "dtype: int64\n",
      "index               5028\n",
      "angle               5028\n",
      "indication_type     5028\n",
      "indication_value    5028\n",
      "split               5028\n",
      "dtype: int64\n",
      "index               4991\n",
      "angle               4991\n",
      "indication_type     4991\n",
      "indication_value    4991\n",
      "split               4991\n",
      "dtype: int64\n"
     ]
    },
    {
     "name": "stderr",
     "output_type": "stream",
     "text": [
      "/tmp/ipykernel_23/486680720.py:2: UserWarning: Boolean Series key will be reindexed to match DataFrame index.\n",
      "  print(test_damaged[test['angle'] == 120].count())\n",
      "/tmp/ipykernel_23/486680720.py:3: UserWarning: Boolean Series key will be reindexed to match DataFrame index.\n",
      "  print(test_damaged[test['angle'] == 20].count())\n"
     ]
    }
   ],
   "source": [
    "print(test_good.count())\n",
    "print(test_damaged[test['angle'] == 120].count())\n",
    "print(test_damaged[test['angle'] == 20].count())"
   ]
  },
  {
   "cell_type": "code",
   "execution_count": 5,
   "id": "25281fb5",
   "metadata": {
    "execution": {
     "iopub.execute_input": "2023-08-11T13:41:28.334399Z",
     "iopub.status.busy": "2023-08-11T13:41:28.333573Z",
     "iopub.status.idle": "2023-08-11T13:41:28.353461Z",
     "shell.execute_reply": "2023-08-11T13:41:28.352375Z"
    },
    "papermill": {
     "duration": 0.027815,
     "end_time": "2023-08-11T13:41:28.356279",
     "exception": false,
     "start_time": "2023-08-11T13:41:28.328464",
     "status": "completed"
    },
    "tags": []
   },
   "outputs": [
    {
     "name": "stderr",
     "output_type": "stream",
     "text": [
      "/tmp/ipykernel_23/291709261.py:1: UserWarning: Boolean Series key will be reindexed to match DataFrame index.\n",
      "  train_table = pd.concat([train_good, train_damaged[train['angle'] == 20], train_damaged[train['angle'] == 120]])\n",
      "/tmp/ipykernel_23/291709261.py:2: UserWarning: Boolean Series key will be reindexed to match DataFrame index.\n",
      "  test_table = pd.concat([test_good, test_damaged[test['angle'] == 20], test_damaged[test['angle'] == 120]])\n"
     ]
    }
   ],
   "source": [
    "train_table = pd.concat([train_good, train_damaged[train['angle'] == 20], train_damaged[train['angle'] == 120]])\n",
    "test_table = pd.concat([test_good, test_damaged[test['angle'] == 20], test_damaged[test['angle'] == 120]])"
   ]
  },
  {
   "cell_type": "code",
   "execution_count": 6,
   "id": "02254904",
   "metadata": {
    "execution": {
     "iopub.execute_input": "2023-08-11T13:41:28.367352Z",
     "iopub.status.busy": "2023-08-11T13:41:28.365804Z",
     "iopub.status.idle": "2023-08-11T13:41:40.020482Z",
     "shell.execute_reply": "2023-08-11T13:41:40.018359Z"
    },
    "papermill": {
     "duration": 11.662178,
     "end_time": "2023-08-11T13:41:40.022815",
     "exception": false,
     "start_time": "2023-08-11T13:41:28.360637",
     "status": "completed"
    },
    "tags": []
   },
   "outputs": [
    {
     "name": "stderr",
     "output_type": "stream",
     "text": [
      "/opt/conda/lib/python3.10/site-packages/scipy/__init__.py:146: UserWarning: A NumPy version >=1.16.5 and <1.23.0 is required for this version of SciPy (detected version 1.23.5\n",
      "  warnings.warn(f\"A NumPy version >={np_minversion} and <{np_maxversion}\"\n",
      "/opt/conda/lib/python3.10/site-packages/tensorflow_io/python/ops/__init__.py:98: UserWarning: unable to load libtensorflow_io_plugins.so: unable to open file: libtensorflow_io_plugins.so, from paths: ['/opt/conda/lib/python3.10/site-packages/tensorflow_io/python/ops/libtensorflow_io_plugins.so']\n",
      "caused by: ['/opt/conda/lib/python3.10/site-packages/tensorflow_io/python/ops/libtensorflow_io_plugins.so: undefined symbol: _ZN3tsl6StatusC1EN10tensorflow5error4CodeESt17basic_string_viewIcSt11char_traitsIcEENS_14SourceLocationE']\n",
      "  warnings.warn(f\"unable to load libtensorflow_io_plugins.so: {e}\")\n",
      "/opt/conda/lib/python3.10/site-packages/tensorflow_io/python/ops/__init__.py:104: UserWarning: file system plugins are not loaded: unable to open file: libtensorflow_io.so, from paths: ['/opt/conda/lib/python3.10/site-packages/tensorflow_io/python/ops/libtensorflow_io.so']\n",
      "caused by: ['/opt/conda/lib/python3.10/site-packages/tensorflow_io/python/ops/libtensorflow_io.so: undefined symbol: _ZTVN10tensorflow13GcsFileSystemE']\n",
      "  warnings.warn(f\"file system plugins are not loaded: {e}\")\n"
     ]
    },
    {
     "name": "stdout",
     "output_type": "stream",
     "text": [
      "(18208, 32, 32, 1)\n",
      "(18208, 2)\n"
     ]
    }
   ],
   "source": [
    "import h5py\n",
    "import keras\n",
    "\n",
    "f = h5py.File('/kaggle/input/textiledefectdetection/train32.h5', 'r')\n",
    "a_group_key = list(f.keys())[0]\n",
    "data = list(f[a_group_key])\n",
    "\n",
    "x_train = []\n",
    "y_train = []\n",
    "idx = train_table['index'].astype('int')\n",
    "indication_value = train_table['indication_value'].astype('int')\n",
    "for i in idx:\n",
    "    x_train.append(data[i])\n",
    "    y_train.append(indication_value.loc[idx[i]])\n",
    "    \n",
    "x_train = np.array(x_train)\n",
    "y_train = np.array(y_train)\n",
    "y_train = keras.utils.to_categorical(y_train, num_classes=2)\n",
    "\n",
    "print(x_train.shape)\n",
    "print(y_train.shape)"
   ]
  },
  {
   "cell_type": "code",
   "execution_count": 7,
   "id": "4b708691",
   "metadata": {
    "execution": {
     "iopub.execute_input": "2023-08-11T13:41:40.034327Z",
     "iopub.status.busy": "2023-08-11T13:41:40.033613Z",
     "iopub.status.idle": "2023-08-11T13:41:43.197903Z",
     "shell.execute_reply": "2023-08-11T13:41:43.196211Z"
    },
    "papermill": {
     "duration": 3.172315,
     "end_time": "2023-08-11T13:41:43.200109",
     "exception": false,
     "start_time": "2023-08-11T13:41:40.027794",
     "status": "completed"
    },
    "tags": []
   },
   "outputs": [
    {
     "name": "stdout",
     "output_type": "stream",
     "text": [
      "(18019, 32, 32, 1)\n",
      "(18019, 2)\n"
     ]
    }
   ],
   "source": [
    "f = h5py.File('/kaggle/input/textiledefectdetection/test32.h5', 'r')\n",
    "a_group_key = list(f.keys())[0]\n",
    "data = list(f[a_group_key])\n",
    "\n",
    "x_test = []\n",
    "y_test = []\n",
    "idx = test_table['index'].astype('int')\n",
    "indication_value = test_table['indication_value'].astype('int')\n",
    "for i in idx:\n",
    "    x_test.append(data[i])\n",
    "    y_test.append(indication_value.loc[idx[i]])\n",
    "    \n",
    "x_test = np.array(x_test)\n",
    "y_test = np.array(y_test)\n",
    "y_test = keras.utils.to_categorical(y_test, num_classes=2)\n",
    "\n",
    "print(x_test.shape)\n",
    "print(y_test.shape)"
   ]
  },
  {
   "cell_type": "code",
   "execution_count": 8,
   "id": "28ad3fc0",
   "metadata": {
    "execution": {
     "iopub.execute_input": "2023-08-11T13:41:43.212067Z",
     "iopub.status.busy": "2023-08-11T13:41:43.211216Z",
     "iopub.status.idle": "2023-08-11T13:41:53.573844Z",
     "shell.execute_reply": "2023-08-11T13:41:53.572823Z"
    },
    "papermill": {
     "duration": 10.370643,
     "end_time": "2023-08-11T13:41:53.576080",
     "exception": false,
     "start_time": "2023-08-11T13:41:43.205437",
     "status": "completed"
    },
    "tags": []
   },
   "outputs": [
    {
     "name": "stderr",
     "output_type": "stream",
     "text": [
      "/opt/conda/lib/python3.10/site-packages/torchvision/models/_utils.py:208: UserWarning: The parameter 'pretrained' is deprecated since 0.13 and may be removed in the future, please use 'weights' instead.\n",
      "  warnings.warn(\n",
      "/opt/conda/lib/python3.10/site-packages/torchvision/models/_utils.py:223: UserWarning: Arguments other than a weight enum or `None` for 'weights' are deprecated since 0.13 and may be removed in the future. The current behavior is equivalent to passing `weights=ResNet18_Weights.IMAGENET1K_V1`. You can also use `weights=ResNet18_Weights.DEFAULT` to get the most up-to-date weights.\n",
      "  warnings.warn(msg)\n",
      "Downloading: \"https://download.pytorch.org/models/resnet18-f37072fd.pth\" to /root/.cache/torch/hub/checkpoints/resnet18-f37072fd.pth\n",
      "100%|██████████| 44.7M/44.7M [00:00<00:00, 212MB/s]\n"
     ]
    },
    {
     "data": {
      "text/plain": [
       "ResNet(\n",
       "  (conv1): Conv2d(1, 64, kernel_size=(7, 7), stride=(2, 2), padding=(3, 3), bias=False)\n",
       "  (bn1): BatchNorm2d(64, eps=1e-05, momentum=0.1, affine=True, track_running_stats=True)\n",
       "  (relu): ReLU(inplace=True)\n",
       "  (maxpool): MaxPool2d(kernel_size=3, stride=2, padding=1, dilation=1, ceil_mode=False)\n",
       "  (layer1): Sequential(\n",
       "    (0): BasicBlock(\n",
       "      (conv1): Conv2d(64, 64, kernel_size=(3, 3), stride=(1, 1), padding=(1, 1), bias=False)\n",
       "      (bn1): BatchNorm2d(64, eps=1e-05, momentum=0.1, affine=True, track_running_stats=True)\n",
       "      (relu): ReLU(inplace=True)\n",
       "      (conv2): Conv2d(64, 64, kernel_size=(3, 3), stride=(1, 1), padding=(1, 1), bias=False)\n",
       "      (bn2): BatchNorm2d(64, eps=1e-05, momentum=0.1, affine=True, track_running_stats=True)\n",
       "    )\n",
       "    (1): BasicBlock(\n",
       "      (conv1): Conv2d(64, 64, kernel_size=(3, 3), stride=(1, 1), padding=(1, 1), bias=False)\n",
       "      (bn1): BatchNorm2d(64, eps=1e-05, momentum=0.1, affine=True, track_running_stats=True)\n",
       "      (relu): ReLU(inplace=True)\n",
       "      (conv2): Conv2d(64, 64, kernel_size=(3, 3), stride=(1, 1), padding=(1, 1), bias=False)\n",
       "      (bn2): BatchNorm2d(64, eps=1e-05, momentum=0.1, affine=True, track_running_stats=True)\n",
       "    )\n",
       "  )\n",
       "  (layer2): Sequential(\n",
       "    (0): BasicBlock(\n",
       "      (conv1): Conv2d(64, 128, kernel_size=(3, 3), stride=(2, 2), padding=(1, 1), bias=False)\n",
       "      (bn1): BatchNorm2d(128, eps=1e-05, momentum=0.1, affine=True, track_running_stats=True)\n",
       "      (relu): ReLU(inplace=True)\n",
       "      (conv2): Conv2d(128, 128, kernel_size=(3, 3), stride=(1, 1), padding=(1, 1), bias=False)\n",
       "      (bn2): BatchNorm2d(128, eps=1e-05, momentum=0.1, affine=True, track_running_stats=True)\n",
       "      (downsample): Sequential(\n",
       "        (0): Conv2d(64, 128, kernel_size=(1, 1), stride=(2, 2), bias=False)\n",
       "        (1): BatchNorm2d(128, eps=1e-05, momentum=0.1, affine=True, track_running_stats=True)\n",
       "      )\n",
       "    )\n",
       "    (1): BasicBlock(\n",
       "      (conv1): Conv2d(128, 128, kernel_size=(3, 3), stride=(1, 1), padding=(1, 1), bias=False)\n",
       "      (bn1): BatchNorm2d(128, eps=1e-05, momentum=0.1, affine=True, track_running_stats=True)\n",
       "      (relu): ReLU(inplace=True)\n",
       "      (conv2): Conv2d(128, 128, kernel_size=(3, 3), stride=(1, 1), padding=(1, 1), bias=False)\n",
       "      (bn2): BatchNorm2d(128, eps=1e-05, momentum=0.1, affine=True, track_running_stats=True)\n",
       "    )\n",
       "  )\n",
       "  (layer3): Sequential(\n",
       "    (0): BasicBlock(\n",
       "      (conv1): Conv2d(128, 256, kernel_size=(3, 3), stride=(2, 2), padding=(1, 1), bias=False)\n",
       "      (bn1): BatchNorm2d(256, eps=1e-05, momentum=0.1, affine=True, track_running_stats=True)\n",
       "      (relu): ReLU(inplace=True)\n",
       "      (conv2): Conv2d(256, 256, kernel_size=(3, 3), stride=(1, 1), padding=(1, 1), bias=False)\n",
       "      (bn2): BatchNorm2d(256, eps=1e-05, momentum=0.1, affine=True, track_running_stats=True)\n",
       "      (downsample): Sequential(\n",
       "        (0): Conv2d(128, 256, kernel_size=(1, 1), stride=(2, 2), bias=False)\n",
       "        (1): BatchNorm2d(256, eps=1e-05, momentum=0.1, affine=True, track_running_stats=True)\n",
       "      )\n",
       "    )\n",
       "    (1): BasicBlock(\n",
       "      (conv1): Conv2d(256, 256, kernel_size=(3, 3), stride=(1, 1), padding=(1, 1), bias=False)\n",
       "      (bn1): BatchNorm2d(256, eps=1e-05, momentum=0.1, affine=True, track_running_stats=True)\n",
       "      (relu): ReLU(inplace=True)\n",
       "      (conv2): Conv2d(256, 256, kernel_size=(3, 3), stride=(1, 1), padding=(1, 1), bias=False)\n",
       "      (bn2): BatchNorm2d(256, eps=1e-05, momentum=0.1, affine=True, track_running_stats=True)\n",
       "    )\n",
       "  )\n",
       "  (layer4): Sequential(\n",
       "    (0): BasicBlock(\n",
       "      (conv1): Conv2d(256, 512, kernel_size=(3, 3), stride=(2, 2), padding=(1, 1), bias=False)\n",
       "      (bn1): BatchNorm2d(512, eps=1e-05, momentum=0.1, affine=True, track_running_stats=True)\n",
       "      (relu): ReLU(inplace=True)\n",
       "      (conv2): Conv2d(512, 512, kernel_size=(3, 3), stride=(1, 1), padding=(1, 1), bias=False)\n",
       "      (bn2): BatchNorm2d(512, eps=1e-05, momentum=0.1, affine=True, track_running_stats=True)\n",
       "      (downsample): Sequential(\n",
       "        (0): Conv2d(256, 512, kernel_size=(1, 1), stride=(2, 2), bias=False)\n",
       "        (1): BatchNorm2d(512, eps=1e-05, momentum=0.1, affine=True, track_running_stats=True)\n",
       "      )\n",
       "    )\n",
       "    (1): BasicBlock(\n",
       "      (conv1): Conv2d(512, 512, kernel_size=(3, 3), stride=(1, 1), padding=(1, 1), bias=False)\n",
       "      (bn1): BatchNorm2d(512, eps=1e-05, momentum=0.1, affine=True, track_running_stats=True)\n",
       "      (relu): ReLU(inplace=True)\n",
       "      (conv2): Conv2d(512, 512, kernel_size=(3, 3), stride=(1, 1), padding=(1, 1), bias=False)\n",
       "      (bn2): BatchNorm2d(512, eps=1e-05, momentum=0.1, affine=True, track_running_stats=True)\n",
       "    )\n",
       "  )\n",
       "  (avgpool): AdaptiveAvgPool2d(output_size=(1, 1))\n",
       "  (fc): Sequential(\n",
       "    (0): Linear(in_features=512, out_features=512, bias=True)\n",
       "    (1): ReLU(inplace=True)\n",
       "    (2): Linear(in_features=512, out_features=64, bias=True)\n",
       "    (3): ReLU(inplace=True)\n",
       "    (4): Linear(in_features=64, out_features=2, bias=True)\n",
       "  )\n",
       ")"
      ]
     },
     "execution_count": 8,
     "metadata": {},
     "output_type": "execute_result"
    }
   ],
   "source": [
    "# Build model\n",
    "import torch\n",
    "import torch.nn as nn\n",
    "from torch.utils.data import Dataset, DataLoader\n",
    "import torchvision.transforms as transforms\n",
    "import torch.optim as optim\n",
    "from torchvision.models import resnet18\n",
    "\n",
    "device = torch.device(\"cuda:0\" if torch.cuda.is_available() else \"cpu\")\n",
    "\n",
    "# Build ResNet50 model\n",
    "model = resnet18(pretrained = True)\n",
    "model.conv1 = nn.Conv2d(1, 64, kernel_size=(7, 7), stride=(2, 2), padding=(3, 3),bias=False)\n",
    "\n",
    "# Connect to fully connnected layer\n",
    "model.fc = nn.Sequential(\n",
    "    nn.Linear(512,512),\n",
    "    nn.ReLU(inplace=True),\n",
    "    nn.Linear(512,64),\n",
    "    nn.ReLU(inplace=True),\n",
    "    nn.Linear(64,2)\n",
    ")\n",
    "\n",
    "def init_weights(m):\n",
    "    if isinstance(m, nn.Conv2d) or isinstance(m, nn.Linear):\n",
    "        nn.init.kaiming_normal_(m.weight, mode='fan_out', nonlinearity='relu')\n",
    "        if m.bias is not None:\n",
    "            nn.init.constant_(m.bias, 0)\n",
    "\n",
    "model.apply(init_weights)\n",
    "model.to(device)"
   ]
  },
  {
   "cell_type": "code",
   "execution_count": 9,
   "id": "95d370f0",
   "metadata": {
    "execution": {
     "iopub.execute_input": "2023-08-11T13:41:53.589825Z",
     "iopub.status.busy": "2023-08-11T13:41:53.588523Z",
     "iopub.status.idle": "2023-08-11T13:41:54.569723Z",
     "shell.execute_reply": "2023-08-11T13:41:54.568446Z"
    },
    "papermill": {
     "duration": 0.990701,
     "end_time": "2023-08-11T13:41:54.572643",
     "exception": false,
     "start_time": "2023-08-11T13:41:53.581942",
     "status": "completed"
    },
    "tags": []
   },
   "outputs": [],
   "source": [
    "from sklearn.model_selection import train_test_split\n",
    "\n",
    "# Set data loader\n",
    "class cifar10Dataset(Dataset):\n",
    "    def __init__(self, imgs, labels, transform=None):\n",
    "        self.imgs = imgs\n",
    "        self.labels = labels\n",
    "        self.transforms = transform\n",
    "\n",
    "    def __len__(self):\n",
    "        return len(self.imgs)\n",
    "    \n",
    "    def __getitem__(self, index):\n",
    "        x = self.imgs[index]\n",
    "        y = self.labels[index]\n",
    "\n",
    "        if self.transforms:\n",
    "            x = self.transforms(x)\n",
    "\n",
    "        x = x.float()\n",
    "        return x, y\n",
    "\n",
    "# Split train and validation\n",
    "x_train, x_val, y_train, y_val = train_test_split(x_train, \n",
    "                                                  y_train, \n",
    "                                                  test_size=0.2, \n",
    "                                                  random_state=100,\n",
    "                                                  shuffle=True)\n",
    "\n",
    "learningRate = 0.001\n",
    "batch_size = 64\n",
    "\n",
    "# Set loss function and optimiser\n",
    "criterion = nn.CrossEntropyLoss()\n",
    "optimizer = optim.Adam(model.parameters(),lr = learningRate)\n",
    "\n",
    "# stats = ((0.5), (0.5))\n",
    "transform = transforms.Compose([transforms.ToTensor(),\n",
    "                                # transforms.RandomCrop(32, padding=4, padding_mode='reflect'),\n",
    "                                # transforms.RandomHorizontalFlip(),\n",
    "                                # transforms.Normalize(*stats,inplace=True)\n",
    "                               ])\n",
    "\n",
    "train_dataset = cifar10Dataset(x_train, y_train, transform)\n",
    "val_dataset = cifar10Dataset(x_val, y_val, transform)\n",
    "test_dataset = cifar10Dataset(x_test, y_test, transform)\n",
    "train_loader = DataLoader(dataset=train_dataset, batch_size= batch_size, shuffle=True)\n",
    "val_loader = DataLoader(dataset=val_dataset, batch_size= batch_size, shuffle=True)\n",
    "test_loader = DataLoader(dataset=test_dataset, batch_size= batch_size, shuffle=True)\n"
   ]
  },
  {
   "cell_type": "code",
   "execution_count": 10,
   "id": "165e2cff",
   "metadata": {
    "execution": {
     "iopub.execute_input": "2023-08-11T13:41:54.586294Z",
     "iopub.status.busy": "2023-08-11T13:41:54.585974Z",
     "iopub.status.idle": "2023-08-11T13:43:48.265297Z",
     "shell.execute_reply": "2023-08-11T13:43:48.263848Z"
    },
    "papermill": {
     "duration": 113.688124,
     "end_time": "2023-08-11T13:43:48.267481",
     "exception": false,
     "start_time": "2023-08-11T13:41:54.579357",
     "status": "completed"
    },
    "tags": []
   },
   "outputs": [
    {
     "name": "stdout",
     "output_type": "stream",
     "text": [
      "Epoch [1/25], Validation Accuracy: 0.6112, BEST Accuracy: 0.6112\n",
      "Epoch [2/25], Validation Accuracy: 0.7625, BEST Accuracy: 0.7625\n",
      "Epoch [3/25], Validation Accuracy: 0.7394, BEST Accuracy: 0.7625\n",
      "Epoch [4/25], Validation Accuracy: 0.7765, BEST Accuracy: 0.7765\n",
      "Epoch [5/25], Validation Accuracy: 0.8353, BEST Accuracy: 0.8353\n",
      "Epoch [6/25], Validation Accuracy: 0.8243, BEST Accuracy: 0.8353\n",
      "Epoch [7/25], Validation Accuracy: 0.7172, BEST Accuracy: 0.8353\n",
      "Epoch [8/25], Validation Accuracy: 0.6505, BEST Accuracy: 0.8353\n",
      "Epoch [9/25], Validation Accuracy: 0.8429, BEST Accuracy: 0.8429\n",
      "Epoch [10/25], Validation Accuracy: 0.6938, BEST Accuracy: 0.8429\n",
      "Epoch [11/25], Validation Accuracy: 0.7878, BEST Accuracy: 0.8429\n",
      "Epoch [12/25], Validation Accuracy: 0.8476, BEST Accuracy: 0.8476\n",
      "Epoch [13/25], Validation Accuracy: 0.8657, BEST Accuracy: 0.8657\n",
      "Epoch [14/25], Validation Accuracy: 0.8657, BEST Accuracy: 0.8657\n",
      "Epoch [15/25], Validation Accuracy: 0.7707, BEST Accuracy: 0.8657\n",
      "Epoch [16/25], Validation Accuracy: 0.5695, BEST Accuracy: 0.8657\n",
      "Epoch [17/25], Validation Accuracy: 0.8564, BEST Accuracy: 0.8657\n",
      "Epoch [18/25], Validation Accuracy: 0.6584, BEST Accuracy: 0.8657\n",
      "Epoch [19/25], Validation Accuracy: 0.8394, BEST Accuracy: 0.8657\n",
      "Epoch [20/25], Validation Accuracy: 0.7809, BEST Accuracy: 0.8657\n",
      "Epoch [21/25], Validation Accuracy: 0.8114, BEST Accuracy: 0.8657\n",
      "Epoch [22/25], Validation Accuracy: 0.8795, BEST Accuracy: 0.8795\n",
      "Epoch [23/25], Validation Accuracy: 0.8298, BEST Accuracy: 0.8795\n",
      "Epoch [24/25], Validation Accuracy: 0.8314, BEST Accuracy: 0.8795\n",
      "Epoch [25/25], Validation Accuracy: 0.8641, BEST Accuracy: 0.8795\n",
      "Training Finished!\n"
     ]
    }
   ],
   "source": [
    "# Train loop\n",
    "num_epoch = 25\n",
    "best_val_accuracy = 0.0\n",
    "\n",
    "for epoch in range(num_epoch):\n",
    "    model.train()\n",
    "    for images, labels in train_loader:\n",
    "        images, labels = images.to(device), labels.to(device)\n",
    "        optimizer.zero_grad()\n",
    "        outputs = model(images)\n",
    "        loss = criterion(outputs, labels)\n",
    "        loss.backward()\n",
    "        optimizer.step()\n",
    "\n",
    "    model.eval()\n",
    "    with torch.no_grad():\n",
    "        correct = 0\n",
    "        total = 0\n",
    "        for images, labels in val_loader:\n",
    "            images, labels = images.to(device), labels.to(device)\n",
    "            outputs = model(images)\n",
    "            _, predicted = torch.max(outputs.data, 1)\n",
    "            _, labels = torch.max(labels, 1)\n",
    "            total += labels.size(0)\n",
    "            correct += (predicted == labels).sum().item()\n",
    "\n",
    "        val_accuracy = correct / total\n",
    "        if val_accuracy > best_val_accuracy:\n",
    "            best_val_accuracy = val_accuracy\n",
    "            torch.save(model.state_dict(), 'best_model.pth')\n",
    "        \n",
    "        print(f'Epoch [{epoch+1}/{num_epoch}], Validation Accuracy: {val_accuracy:.4f}, BEST Accuracy: {best_val_accuracy:.4f}')\n",
    "\n",
    "print('Training Finished!')\n"
   ]
  },
  {
   "cell_type": "code",
   "execution_count": 11,
   "id": "3002f11e",
   "metadata": {
    "execution": {
     "iopub.execute_input": "2023-08-11T13:43:48.284296Z",
     "iopub.status.busy": "2023-08-11T13:43:48.283992Z",
     "iopub.status.idle": "2023-08-11T13:43:49.910128Z",
     "shell.execute_reply": "2023-08-11T13:43:49.909090Z"
    },
    "papermill": {
     "duration": 1.637098,
     "end_time": "2023-08-11T13:43:49.912496",
     "exception": false,
     "start_time": "2023-08-11T13:43:48.275398",
     "status": "completed"
    },
    "tags": []
   },
   "outputs": [
    {
     "name": "stdout",
     "output_type": "stream",
     "text": [
      "Test accuracy:  0.8586492036184028\n"
     ]
    }
   ],
   "source": [
    "model.load_state_dict(torch.load('best_model.pth'))\n",
    "model.eval()\n",
    "\n",
    "total = 0\n",
    "correct = 0\n",
    "\n",
    "for images, labels in test_loader:\n",
    "    images, labels = images.to(device), labels.to(device)\n",
    "    batch_outputs = model(images) \n",
    "    _, predicted = torch.max(batch_outputs, 1)\n",
    "    _, labels = torch.max(labels, 1)\n",
    "    total += labels.size(0)\n",
    "    correct += (predicted == labels).sum().item()\n",
    "    \n",
    "test_accuracy = correct / total\n",
    "print('Test accuracy: ', test_accuracy)"
   ]
  }
 ],
 "metadata": {
  "kernelspec": {
   "display_name": "Python 3",
   "language": "python",
   "name": "python3"
  },
  "language_info": {
   "codemirror_mode": {
    "name": "ipython",
    "version": 3
   },
   "file_extension": ".py",
   "mimetype": "text/x-python",
   "name": "python",
   "nbconvert_exporter": "python",
   "pygments_lexer": "ipython3",
   "version": "3.10.12"
  },
  "papermill": {
   "default_parameters": {},
   "duration": 156.085111,
   "end_time": "2023-08-11T13:43:53.216495",
   "environment_variables": {},
   "exception": null,
   "input_path": "__notebook__.ipynb",
   "output_path": "__notebook__.ipynb",
   "parameters": {},
   "start_time": "2023-08-11T13:41:17.131384",
   "version": "2.4.0"
  }
 },
 "nbformat": 4,
 "nbformat_minor": 5
}
